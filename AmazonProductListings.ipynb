{
 "cells": [
  {
   "cell_type": "code",
   "execution_count": 57,
   "id": "3beac3a6-d34b-46e7-b302-488e31913821",
   "metadata": {},
   "outputs": [
    {
     "name": "stdout",
     "output_type": "stream",
     "text": [
      "2024-08-12\n"
     ]
    }
   ],
   "source": [
    "#import libraries\n",
    "\n",
    "from bs4 import BeautifulSoup\n",
    "import requests\n",
    "import time\n",
    "import datetime\n",
    "\n",
    "import smtplib\n",
    "import re\n",
    "\n",
    "import datetime\n",
    "\n",
    "today = datetime.date.today()\n",
    "print(today)"
   ]
  },
  {
   "cell_type": "code",
   "execution_count": 58,
   "id": "d8ce0203-6697-4fe1-a18d-e7d20b90f5ed",
   "metadata": {
    "scrolled": true
   },
   "outputs": [],
   "source": [
    "#Connect to Website\n",
    "\n",
    "URL = 'https://www.amazon.sg/s?k=sunscreen&s=exact-aware-popularity-rank&crid=26XGF0ETVPQUI&qid=1723367023&sprefix=sun%2Caps%2C833&ref=sr_st_exact-aware-popularity-rank&ds=v1%3A3pDT%2BAG86jcKv9fBxlUHlsFORcPucnxPmCLjzaZBAa4'\n",
    "headers = {\"User-Agent\": \"Mozilla/5.0 (Windows NT 10.0; Win64; x64) AppleWebKit/537.36 (KHTML, like Gecko) Chrome/127.0.0.0 Safari/537.36\"}\n",
    "\n",
    "page = requests.get(URL, headers=headers)\n",
    "\n",
    "soup = BeautifulSoup(page.content, \"html.parser\")\n",
    "soup2 = BeautifulSoup(soup1.prettify(), \"html.parser\")"
   ]
  },
  {
   "cell_type": "code",
   "execution_count": 59,
   "id": "4196feaf-ea3d-4dad-b031-117de4f0a4be",
   "metadata": {},
   "outputs": [],
   "source": [
    "# functions\n",
    "\n",
    "def get_title(soup):\n",
    "    try:\n",
    "        product_title = soup.find(\"span\", attrs={\"id\":'productTitle'})\n",
    "        title_value = product_title.text\n",
    "        title_string = title_value.strip()\n",
    "    \n",
    "    except AttributeError:\n",
    "        title_string = \"\"\n",
    "    \n",
    "    return title_string\n",
    "    \n",
    "\n",
    "def get_price(soup):\n",
    "    price = soup.find(class_='a-offscreen')\n",
    "    if price:\n",
    "        price_text = price.text.strip()\n",
    "        try:\n",
    "            price = float(price_text[2:])\n",
    "            return price\n",
    "        except ValueError:\n",
    "            return \"N/A\"\n",
    "    else:\n",
    "        return \"N/A\"\n",
    "\n",
    "def get_rating(soup):\n",
    "    rating = soup.find(class_='a-icon-alt')\n",
    "    if rating:\n",
    "        ratings = rating.text.split(' out of 5 stars')\n",
    "        ratings = ratings[0]\n",
    "        rat = ratings.strip()\n",
    "        return rat\n",
    "    else:\n",
    "        return \"N/A\"\n",
    "    \n",
    "def get_reviews(soup):\n",
    "    reviews_element = soup.find(\"span\", attrs={'id':'acrCustomerReviewText'})\n",
    "    if reviews_element:\n",
    "        reviews = reviews_element.text.split(' ratings')\n",
    "        reviews = reviews[0]\n",
    "        rev = reviews.strip()\n",
    "        return rev\n",
    "    else:\n",
    "        return \"N/A\"\n",
    "\n",
    "def get_sales(soup):\n",
    "    sales = soup.find(class_='a-size-small social-proofing-faceout-title-text')\n",
    "    if sales:\n",
    "        return sales.text\n",
    "    else:\n",
    "        return \"N/A\""
   ]
  },
  {
   "cell_type": "code",
   "execution_count": 199,
   "id": "ef97822f-25ba-4240-9684-dccce3c6cba9",
   "metadata": {},
   "outputs": [
    {
     "name": "stdout",
     "output_type": "stream",
     "text": [
      "['https://www.amazon.sg/s?k=sunscreen&s=exact-aware-popularity-rank&crid=26XGF0ETVPQUI&qid=1723484528&sprefix=sun%2Caps%2C833&ref=sr_pg_1', 'https://www.amazon.sg/s?k=sunscreen&s=exact-aware-popularity-rank&page=2&crid=26XGF0ETVPQUI&qid=1723477685&sprefix=sun%2Caps%2C833&ref=sr_pg_2', 'https://www.amazon.sg/s?k=sunscreen&s=exact-aware-popularity-rank&page=3&crid=26XGF0ETVPQUI&qid=1723489203&sprefix=sun%2Caps%2C833&ref=sr_pg_3', 'https://www.amazon.sg/s?k=sunscreen&s=exact-aware-popularity-rank&page=4&crid=26XGF0ETVPQUI&qid=1723489204&sprefix=sun%2Caps%2C833&ref=sr_pg_4']\n"
     ]
    }
   ],
   "source": [
    "#Fetching Pages\n",
    "pages = soup.find_all('a', class_='s-pagination-item s-pagination-button')\n",
    "\n",
    "pages_list = ['https://www.amazon.sg/s?k=sunscreen&s=exact-aware-popularity-rank&crid=26XGF0ETVPQUI&qid=1723484528&sprefix=sun%2Caps%2C833&ref=sr_pg_1']\n",
    "\n",
    "for page in pages:\n",
    "    page_url = 'https://www.amazon.sg' + page.get('href')\n",
    "    pages_list.append(page_url)\n",
    "    new_page = requests.get(page_url, headers=headers)\n",
    "    new_page_soup = BeautifulSoup(new_page.content, \"html.parser\")\n",
    "    \n",
    "# Extract the URLs from the current page\n",
    "    new_pages = new_page_soup.find_all('a', class_='s-pagination-item s-pagination-button')\n",
    "\n",
    "    # Iterate through the new pages and add them to the list if they're not already in it\n",
    "    for new_page in new_pages:\n",
    "        new_url = 'https://www.amazon.sg' + new_page.get('href')\n",
    "        if new_url not in pages_list:\n",
    "            pages_list.append(new_url)\n",
    " \n",
    "    #print(pages_list)\n",
    "\n",
    "# Create a dictionary to store unique URLs based on last 4 characters\n",
    "unique_urls = {}\n",
    "for url in pages_list:\n",
    "    last_four = url[-4:]\n",
    "    if last_four not in unique_urls:\n",
    "        unique_urls[last_four] = url\n",
    "        \n",
    "# Convert the dictionary back to a list\n",
    "page_link_list = list(unique_urls.values())\n",
    "\n",
    "print(page_link_list)"
   ]
  },
  {
   "cell_type": "code",
   "execution_count": 200,
   "id": "2fd5e521-56a1-40a8-a2cf-8338e48e71f8",
   "metadata": {},
   "outputs": [
    {
     "name": "stdout",
     "output_type": "stream",
     "text": [
      "                                                 title  price rating reviews  \\\n",
      "0    CeraVe 100% Mineral Sunscreen SPF 50 | Face Su...    N/A    4.3  76,597   \n",
      "1                                                         N/A    N/A     N/A   \n",
      "2    Aveeno Protect + Hydrate Moisturizing Body Sun...  18.67    4.5   9,275   \n",
      "3                                                         N/A    N/A     N/A   \n",
      "4                                                         N/A    N/A     N/A   \n",
      "..                                                 ...    ...    ...     ...   \n",
      "139                                                       N/A    N/A     N/A   \n",
      "140  Nivea Men Sensitive Face Lotion with SPF 15, B...  30.99    4.6   6,312   \n",
      "141                                                       N/A    N/A     N/A   \n",
      "142                                                       N/A    N/A     N/A   \n",
      "143  Numbuzin No.1 Clear Filter Sun Essence Spf50+ ...    N/A    4.2     113   \n",
      "\n",
      "                  monthly_sales  \\\n",
      "0                           N/A   \n",
      "1                           N/A   \n",
      "2     50+ bought in past month    \n",
      "3                           N/A   \n",
      "4                           N/A   \n",
      "..                          ...   \n",
      "139                         N/A   \n",
      "140                         N/A   \n",
      "141                         N/A   \n",
      "142                         N/A   \n",
      "143                         N/A   \n",
      "\n",
      "                                                   URL  \n",
      "0    https://www.amazon.sg/CeraVe-Sunscreen-Sensiti...  \n",
      "1    https://www.amazon.sg/Aveeno-Continuous-Protec...  \n",
      "2    https://www.amazon.sg/Aveeno-Moisturizing-Weig...  \n",
      "3    https://www.amazon.sg/BLUE-LIZARD-Sensitive-Pr...  \n",
      "4    https://www.amazon.sg/CeraVe-Sunscreen-Wrinkle...  \n",
      "..                                                 ...  \n",
      "139  https://www.amazon.sg/Neutrogena-Protection-Re...  \n",
      "140  https://www.amazon.sg/Nivea-Men-Sensitive-Spec...  \n",
      "141  https://www.amazon.sg/ANTHELIOS-UVMUNE-fluide-...  \n",
      "142  https://www.amazon.sg/Neutrogena-Purescreen-Su...  \n",
      "143  https://www.amazon.sg/Numbuzin-Clear-Filter-Es...  \n",
      "\n",
      "[144 rows x 6 columns]\n"
     ]
    }
   ],
   "source": [
    "# Create a dictionary to store product details\n",
    "d = {'title': [], 'price': [], 'rating': [], 'reviews': [], 'monthly_sales': [], 'URL': []}\n",
    "\n",
    "# Loop through the unique URLs and extract the product details\n",
    "for unique_url in page_link_list:\n",
    "    unique_page = requests.get(unique_url, headers=headers)\n",
    "    product_soup = BeautifulSoup(unique_page.content, \"html.parser\")\n",
    "    links = product_soup.find_all('a', attrs={'class': 'a-link-normal s-no-outline'})\n",
    "\n",
    "    for link in links:\n",
    "        product_url = \"https://www.amazon.sg\" + link.get('href')\n",
    "        new_product = requests.get(product_url, headers=headers)\n",
    "        product_soup = BeautifulSoup(new_product.content, \"html.parser\")\n",
    "\n",
    "        d['title'].append(get_title(product_soup))\n",
    "        d['price'].append(get_price(product_soup))\n",
    "        d['rating'].append(get_rating(product_soup))\n",
    "        d['reviews'].append(get_reviews(product_soup))\n",
    "        d['monthly_sales'].append(get_sales(product_soup))\n",
    "        d['URL'].append(product_url)\n",
    "\n",
    "amazon_df = pd.DataFrame.from_dict(d)\n",
    "print(amazon_df)"
   ]
  },
  {
   "cell_type": "code",
   "execution_count": 201,
   "id": "282a8b5e-4fbb-49f1-a47d-25d98a3cf4cf",
   "metadata": {},
   "outputs": [],
   "source": [
    "import csv\n",
    "\n",
    "with open('AmazonWebScraper_SunscreenSingapore.csv', 'w', newline='', encoding='UTF8') as f:\n",
    "    amazon_df.to_csv('AmazonWebScraper_SunscreenSingapore.csv', index=False)"
   ]
  },
  {
   "cell_type": "code",
   "execution_count": null,
   "id": "2acde0ab-d836-4cd4-9ab4-dd7723362fab",
   "metadata": {},
   "outputs": [],
   "source": [
    "#Appending data to the csv\n",
    "\n",
    "with open('AmazonWebScraper_SunscreenSingapore.csv', 'a+', newline='', encoding='UTF8') as f:\n",
    "    writer = csv.writer(f)\n",
    "    writer.writerow(data)"
   ]
  },
  {
   "cell_type": "code",
   "execution_count": null,
   "id": "eb75b567-273f-473d-9e44-fc54d517da20",
   "metadata": {},
   "outputs": [],
   "source": []
  }
 ],
 "metadata": {
  "kernelspec": {
   "display_name": "Python 3 (ipykernel)",
   "language": "python",
   "name": "python3"
  },
  "language_info": {
   "codemirror_mode": {
    "name": "ipython",
    "version": 3
   },
   "file_extension": ".py",
   "mimetype": "text/x-python",
   "name": "python",
   "nbconvert_exporter": "python",
   "pygments_lexer": "ipython3",
   "version": "3.12.1"
  }
 },
 "nbformat": 4,
 "nbformat_minor": 5
}
